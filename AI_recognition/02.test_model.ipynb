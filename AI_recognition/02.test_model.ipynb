{
 "cells": [
  {
   "cell_type": "code",
   "execution_count": null,
   "metadata": {},
   "outputs": [],
   "source": [
    "import tensorflow as tf\n",
    "from tensorflow.keras.preprocessing import image\n",
    "from tensorflow.keras.preprocessing.image import ImageDataGenerator\n",
    "from tensorflow.keras.applications.mobilenet_v2 import preprocess_input\n",
    "import numpy as np\n",
    "import os"
   ]
  },
  {
   "cell_type": "code",
   "execution_count": null,
   "metadata": {},
   "outputs": [],
   "source": [
    "# 載入模型\n",
    "loaded_model = tf.keras.models.load_model(\"MobileNetV2_0212.h5\")\n",
    "\n",
    "# 測試集資料生成器\n",
    "test_datagen = ImageDataGenerator(rescale=1.0 / 255)\n",
    "test_generator = test_datagen.flow_from_directory(\n",
    "    \"MobileNetV3訓練_0219\",  # 測試集數據的路徑\n",
    ")"
   ]
  },
  {
   "cell_type": "code",
   "execution_count": null,
   "metadata": {},
   "outputs": [],
   "source": [
    "# 獲取類別標籤和索引的對應\n",
    "class_labels = test_generator.class_indices\n",
    "print(\"Class labels and corresponding indices:\", class_labels)\n",
    "\n",
    "# Folder path containing multiple images\n",
    "folder_path = \"test_photo\"\n",
    "\n",
    "# Get a list of all image files in the folder\n",
    "image_files = [\n",
    "    f\n",
    "    for f in os.listdir(folder_path)\n",
    "    if os.path.isfile(os.path.join(folder_path, f))\n",
    "    and f.lower().endswith((\".png\", \".jpg\", \".jpeg\"))\n",
    "]\n",
    "\n"
   ]
  },
  {
   "cell_type": "code",
   "execution_count": null,
   "metadata": {},
   "outputs": [],
   "source": [
    "# Loop through each image in the folder\n",
    "for image_file in image_files:\n",
    "    # Construct the full path to the image\n",
    "    image_path = os.path.join(folder_path, image_file)\n",
    "\n",
    "    # Load and preprocess the image\n",
    "    img = image.load_img(image_path, target_size=(224, 224))\n",
    "    img_array = image.img_to_array(img)\n",
    "    img_array = np.expand_dims(img_array, axis=0)\n",
    "    img_array = img_array / 255.0\n",
    "\n",
    "    # Perform model inference\n",
    "    preds = loaded_model.predict(img_array)\n",
    "\n",
    "    # Find the index of the predicted class with the highest probability\n",
    "    predicted_class_index = np.argmax(preds)\n",
    "\n",
    "    # Convert to the predicted class name\n",
    "    predicted_label = [\n",
    "        k for k, v in class_labels.items() if v == predicted_class_index\n",
    "    ][0]\n",
    "            \n",
    "    print(\n",
    "        f\"Image: {image_file}, Predicted class: {predicted_label}, Probability: {preds[0][predicted_class_index]:.2f}\"\n",
    "    )"
   ]
  }
 ],
 "metadata": {
  "kernelspec": {
   "display_name": "python38",
   "language": "python",
   "name": "python3"
  },
  "language_info": {
   "codemirror_mode": {
    "name": "ipython",
    "version": 3
   },
   "file_extension": ".py",
   "mimetype": "text/x-python",
   "name": "python",
   "nbconvert_exporter": "python",
   "pygments_lexer": "ipython3",
   "version": "3.8.18"
  }
 },
 "nbformat": 4,
 "nbformat_minor": 2
}
