{
 "cells": [
  {
   "cell_type": "code",
   "execution_count": null,
   "metadata": {},
   "outputs": [],
   "source": [
    "import tensorflow as tf\n",
    "from tensorflow.keras.preprocessing.image import ImageDataGenerator\n",
    "from tensorflow.keras.applications import MobileNetV2\n",
    "from tensorflow.keras.models import Model\n",
    "from tensorflow.keras.applications.mobilenet_v2 import preprocess_input\n",
    "from tensorflow.keras.layers import Input , Dense, GlobalAveragePooling2D, Dropout\n",
    "from tensorflow.keras.optimizers import Adam\n",
    "from tensorflow.keras.callbacks import EarlyStopping, ModelCheckpoint, TensorBoard\n",
    "\n"
   ]
  },
  {
   "cell_type": "code",
   "execution_count": null,
   "metadata": {},
   "outputs": [],
   "source": [
    "import numpy\n",
    "print(numpy.__version__)"
   ]
  },
  {
   "cell_type": "code",
   "execution_count": null,
   "metadata": {},
   "outputs": [],
   "source": [
    "# 設定圖片大小\n",
    "image_size = (224, 224)\n",
    "# 設定批次大小\n",
    "batch_size = 32\n",
    "# 設定類別數量，根據你的資料集而定\n",
    "num_classes = 18\n",
    "# 設定訓練輪次\n",
    "epochs = 100\n",
    "\n",
    "file_name = \"MobileNetV2_0225.h5\""
   ]
  },
  {
   "cell_type": "code",
   "execution_count": null,
   "metadata": {},
   "outputs": [],
   "source": [
    "# 使用ImageDataGenerator設定資料生成器\n",
    "train_datagen = ImageDataGenerator(\n",
    "    # rescale=1.0 / 255,\n",
    "    preprocessing_function=preprocess_input,\n",
    "    validation_split=0.2,\n",
    "    shear_range=0.2, # 浮點數。剪切強度（弧度的剪切角度）。1\n",
    "    zoom_range=0.2, # 浮點數或元組。用於隨機縮放的範圍。2\n",
    "    horizontal_flip=True, # 布林值。隨機水平翻轉輸入。3\n",
    "    rotation_range=20, # 整數。用於隨機旋轉的度數範圍。4\n",
    "    # width_shift_range=0.2, #浮點數（總寬度的一部分）。用於隨機水平平移的範圍。5\n",
    "    # height_shift_range=0.2, # 浮點數（總高度的一部分）。用於隨機垂直平移的範圍。6\n",
    "    channel_shift_range=20, # 浮點數。用於隨機通道平移的範圍。7  channel_shift_range: 對圖片的顏色通道進行隨機平移，可以增加顏色變化\n",
    "    # brightness_range=(0.8, 1.2), # 元組或列表。用於隨機亮度的範圍。8\n",
    ")\n",
    "\n",
    "# 使用ImageDataGenerator設定資料生成器\n",
    "val_datagen = ImageDataGenerator(\n",
    "    preprocessing_function=preprocess_input,\n",
    "    # validation_split=0.2\n",
    "    )\n",
    "\n",
    "\n",
    "\n"
   ]
  },
  {
   "cell_type": "code",
   "execution_count": null,
   "metadata": {},
   "outputs": [],
   "source": [
    "# 訓練集資料生成器\n",
    "train_generator = train_datagen.flow_from_directory(\n",
    "    \"MobileNetV3訓練_0219\",\n",
    "    target_size=image_size,\n",
    "    batch_size=batch_size,\n",
    "    class_mode=\"categorical\",\n",
    "    subset=\"training\",\n",
    "    shuffle=True,\n",
    "    seed=42 # 亂數種子42  在這個系列中，一個超級電腦被設計出來來回答宇宙中所有問題的答案，而這個答案就是 “42”。\n",
    ")\n",
    "\n",
    "# 驗證集資料生成器\n",
    "validation_generator = val_datagen.flow_from_directory(\n",
    "    \"MobileNetV3訓練_0219\",\n",
    "    target_size=image_size,\n",
    "    batch_size=batch_size,\n",
    "    class_mode=\"categorical\",\n",
    "    subset=\"validation\",\n",
    ")"
   ]
  },
  {
   "cell_type": "code",
   "execution_count": null,
   "metadata": {},
   "outputs": [],
   "source": [
    "tensorboard_callback = TensorBoard(log_dir=\"logs\", histogram_freq=1)\n",
    "\n",
    "# 提前停止（Early Stopping）\n",
    "early_stopping = EarlyStopping(\n",
    "    monitor=\"accuracy\", patience=30, restore_best_weights=True\n",
    ")\n",
    "\n",
    "# 設置 ModelCheckpoint 以保存最佳模型\n",
    "model_checkpoint = ModelCheckpoint(\n",
    "    f\"{file_name}.h5\",\n",
    "    save_best_only=True,\n",
    "    monitor=\"accuracy\",\n",
    "    mode=\"max\",\n",
    "    verbose=1,\n",
    ")\n"
   ]
  },
  {
   "cell_type": "code",
   "execution_count": null,
   "metadata": {},
   "outputs": [],
   "source": [
    "input_tensor = Input(shape=(224, 224, 3))\n",
    "\n",
    "# 添加預訓練的 MobileNetV2 模型\n",
    "base_model = MobileNetV2(weights=\"imagenet\", include_top=False, input_tensor=input_tensor)\n",
    "\n",
    "# 凍結 MobileNetV2 層\n",
    "for layer in base_model.layers[:-100]:\n",
    "    layer.trainable = False"
   ]
  },
  {
   "cell_type": "code",
   "execution_count": null,
   "metadata": {},
   "outputs": [],
   "source": [
    "# 全局平均池化層\n",
    "x = GlobalAveragePooling2D()(base_model.output)\n",
    "\n",
    "# 全連接層，使用 ReLU 激活函數\n",
    "x = Dense(1024, activation=\"relu\")(x)\n",
    "\n",
    "# Dropout 層，防止過擬合\n",
    "x = Dropout(0.4)(x)\n",
    "\n",
    "# 全連接層，使用 softmax 激活函數\n",
    "output_tensor = Dense(len(train_generator.class_indices), activation=\"softmax\")(x)\n",
    "\n",
    "# 建立模型\n",
    "model = Model(inputs=input_tensor, outputs=output_tensor)\n",
    "\n",
    "model.compile(optimizer=Adam(lr=0.00001), loss=\"categorical_crossentropy\", metrics=[\"accuracy\"])"
   ]
  },
  {
   "cell_type": "code",
   "execution_count": null,
   "metadata": {},
   "outputs": [],
   "source": [
    "model.summary()\n"
   ]
  },
  {
   "cell_type": "code",
   "execution_count": null,
   "metadata": {},
   "outputs": [],
   "source": [
    "# # 訓練模型 完整訓練\n",
    "model.fit(\n",
    "    train_generator,\n",
    "    epochs=epochs,\n",
    "    validation_data=validation_generator,\n",
    "    callbacks=[tensorboard_callback, early_stopping, model_checkpoint],\n",
    "    # callbacks=[tensorboard_callback],\n",
    "    # verbose=1\n",
    ")\n"
   ]
  }
 ],
 "metadata": {
  "kernelspec": {
   "display_name": "Python 3",
   "language": "python",
   "name": "python3"
  },
  "language_info": {
   "codemirror_mode": {
    "name": "ipython",
    "version": 3
   },
   "file_extension": ".py",
   "mimetype": "text/x-python",
   "name": "python",
   "nbconvert_exporter": "python",
   "pygments_lexer": "ipython3",
   "version": "3.8.18"
  }
 },
 "nbformat": 4,
 "nbformat_minor": 2
}
